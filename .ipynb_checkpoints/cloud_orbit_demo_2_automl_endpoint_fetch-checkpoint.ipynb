{
 "cells": [
  {
   "cell_type": "markdown",
   "id": "b443dfdf-2c4e-4350-a0f9-c1731561de66",
   "metadata": {},
   "source": [
    "# -1) imports"
   ]
  },
  {
   "cell_type": "code",
   "execution_count": 1,
   "id": "6fed5c16-b1d1-49b4-b324-ffd80a02e90e",
   "metadata": {},
   "outputs": [],
   "source": [
    "import base64\n",
    "\n",
    "from google.cloud                         import aiplatform\n",
    "from google.cloud.aiplatform.gapic.schema import predict\n"
   ]
  },
  {
   "cell_type": "markdown",
   "id": "ea26bf6e-8b11-44bf-b207-94e35e81f663",
   "metadata": {},
   "source": [
    "# 0) local functions"
   ]
  },
  {
   "cell_type": "code",
   "execution_count": 2,
   "id": "846f4a48-8907-44ed-9106-55b0c51ba3ac",
   "metadata": {},
   "outputs": [],
   "source": [
    "\n",
    "def predict_image_classification_sample(\n",
    "    project: str,\n",
    "    endpoint_id: str,\n",
    "    filename: str,\n",
    "    location: str = \"us-central1\",\n",
    "    api_endpoint: str = \"us-central1-aiplatform.googleapis.com\",\n",
    "):\n",
    "    # The AI Platform services require regional API endpoints.\n",
    "    client_options = {\"api_endpoint\": api_endpoint}\n",
    "    # Initialize client that will be used to create and send requests.\n",
    "    # This client only needs to be created once, and can be reused for multiple requests.\n",
    "    client = aiplatform.gapic.PredictionServiceClient(client_options=client_options)\n",
    "    with open(filename, \"rb\") as f:\n",
    "        file_content = f.read()\n",
    "\n",
    "    # The format of each instance should conform to the deployed model's prediction input schema.\n",
    "    encoded_content = base64.b64encode(file_content).decode(\"utf-8\")\n",
    "    instance = predict.instance.ImageClassificationPredictionInstance(\n",
    "        content=encoded_content,\n",
    "    ).to_value()\n",
    "    instances = [instance]\n",
    "    # See gs://google-cloud-aiplatform/schema/predict/params/image_classification_1.0.0.yaml for the format of the parameters.\n",
    "    parameters = predict.params.ImageClassificationPredictionParams(\n",
    "        confidence_threshold=0.5, max_predictions=5,\n",
    "    ).to_value()\n",
    "    endpoint = client.endpoint_path(\n",
    "        project=project, location=location, endpoint=endpoint_id\n",
    "    )\n",
    "    response = client.predict(\n",
    "        endpoint=endpoint, instances=instances, parameters=parameters\n",
    "    )\n",
    "    print(\"response\")\n",
    "    print(\" deployed_model_id:\", response.deployed_model_id)\n",
    "    # See gs://google-cloud-aiplatform/schema/predict/prediction/image_classification_1.0.0.yaml for the format of the predictions.\n",
    "    predictions = response.predictions\n",
    "    for prediction in predictions:\n",
    "        print(\" prediction:\", dict(prediction))\n"
   ]
  },
  {
   "cell_type": "code",
   "execution_count": null,
   "id": "56fd79b6-70c9-4eea-a59f-073b0da8420c",
   "metadata": {},
   "outputs": [],
   "source": []
  },
  {
   "cell_type": "markdown",
   "id": "85656d51-015a-4473-8d2c-95b1e14aae30",
   "metadata": {},
   "source": [
    "# 1) parameters"
   ]
  },
  {
   "cell_type": "code",
   "execution_count": 3,
   "id": "50b02bcf-209e-44aa-8aec-8ee44a14d204",
   "metadata": {},
   "outputs": [],
   "source": [
    "params = {\n",
    "    \"project\"     : \"helical-sanctum-353821\" ,\n",
    "    \"endpoint_id\" : \"400917123859218432\"     ,\n",
    "    \"filename\"    : \"./odesquess.jpeg\",\n",
    "    \"location\"    : \"us-central1\",\n",
    "}"
   ]
  },
  {
   "cell_type": "markdown",
   "id": "3f97602a-967d-4736-ba31-6bd3680803c6",
   "metadata": {},
   "source": [
    "# 2) prediction of a local file"
   ]
  },
  {
   "cell_type": "code",
   "execution_count": 4,
   "id": "14b40db7-b941-4906-9813-785a26c89f12",
   "metadata": {},
   "outputs": [
    {
     "name": "stdout",
     "output_type": "stream",
     "text": [
      "response\n",
      " deployed_model_id: 7946746678030106624\n",
      " prediction: {'ids': ['6268098636404490240'], 'displayNames': ['homme'], 'confidences': [0.946619809]}\n"
     ]
    }
   ],
   "source": [
    "predict_image_classification_sample(**params)"
   ]
  },
  {
   "cell_type": "markdown",
   "id": "793b7fdf-e718-4e8a-8b96-1c803f0a9e2f",
   "metadata": {},
   "source": [
    "# 3) test on other files"
   ]
  },
  {
   "cell_type": "code",
   "execution_count": 5,
   "id": "1e5ec99b-1c22-43f3-a1e1-6d2901c82f17",
   "metadata": {},
   "outputs": [],
   "source": [
    "from   google.cloud             import storage\n",
    "client       = storage.Client()\n",
    "BUCKET_NAME = \"prediction_input_for_cloud_orbit\"\n",
    "bucket      = client.bucket(BUCKET_NAME)"
   ]
  },
  {
   "cell_type": "code",
   "execution_count": 6,
   "id": "14781b83-d0db-4268-b05d-80fb80750157",
   "metadata": {},
   "outputs": [],
   "source": [
    "bucket_content = [blob.name for blob in bucket.list_blobs()]"
   ]
  },
  {
   "cell_type": "code",
   "execution_count": 7,
   "id": "5fdfab92-264a-4452-87c8-ea2bb19d34bb",
   "metadata": {},
   "outputs": [
    {
     "data": {
      "text/plain": [
       "['ameilia.jpeg',\n",
       " 'girgio.jpeg',\n",
       " 'guido.jpeg',\n",
       " 'ines_kour.jpeg',\n",
       " 'odesquess.jpeg',\n",
       " 'victo.jpeg']"
      ]
     },
     "execution_count": 7,
     "metadata": {},
     "output_type": "execute_result"
    }
   ],
   "source": [
    "jpeg_files = [filename for filename in bucket_content if filename.endswith(\".jpeg\")]\n",
    "jpeg_files"
   ]
  },
  {
   "cell_type": "code",
   "execution_count": 8,
   "id": "43b455a3-165e-436e-a832-1965b66e1084",
   "metadata": {},
   "outputs": [
    {
     "data": {
      "text/plain": [
       "[None, None, None, None, None, None, None]"
      ]
     },
     "execution_count": 8,
     "metadata": {},
     "output_type": "execute_result"
    }
   ],
   "source": [
    "list(map(lambda blob: bucket.blob(blob.name).download_to_filename(blob.name) , bucket.list_blobs()))"
   ]
  },
  {
   "cell_type": "code",
   "execution_count": 9,
   "id": "f3846e92-d078-45a1-8ad7-df435815a0ed",
   "metadata": {},
   "outputs": [],
   "source": [
    "from IPython.display import display, Image"
   ]
  },
  {
   "cell_type": "code",
   "execution_count": 10,
   "id": "7315baf0-d8c9-4b2b-b228-7a30f45f5709",
   "metadata": {},
   "outputs": [
    {
     "name": "stdout",
     "output_type": "stream",
     "text": [
      "response\n",
      " deployed_model_id: 7946746678030106624\n",
      " prediction: {'confidences': [0.968854845], 'ids': ['1642338869141569536'], 'displayNames': ['femme']}\n",
      "response\n",
      " deployed_model_id: 7946746678030106624\n",
      " prediction: {'ids': ['1642338869141569536'], 'confidences': [0.999768436], 'displayNames': ['femme']}\n",
      "response\n",
      " deployed_model_id: 7946746678030106624\n",
      " prediction: {'confidences': [0.991054237], 'displayNames': ['homme'], 'ids': ['6268098636404490240']}\n",
      "response\n",
      " deployed_model_id: 7946746678030106624\n",
      " prediction: {'displayNames': ['femme'], 'confidences': [0.999995112], 'ids': ['1642338869141569536']}\n",
      "response\n",
      " deployed_model_id: 7946746678030106624\n",
      " prediction: {'ids': ['6268098636404490240'], 'confidences': [0.946619809], 'displayNames': ['homme']}\n",
      "response\n",
      " deployed_model_id: 7946746678030106624\n",
      " prediction: {'confidences': [0.999782741], 'displayNames': ['femme'], 'ids': ['1642338869141569536']}\n"
     ]
    }
   ],
   "source": [
    "\n",
    "for input_name in jpeg_files:\n",
    "    bucket.blob(input_name).download_to_filename(input_name)\n",
    "    params[\"filename\"] = input_name\n",
    "    predict_image_classification_sample(**params)"
   ]
  }
 ],
 "metadata": {
  "kernelspec": {
   "display_name": "Python (Local)",
   "language": "python",
   "name": "local-base"
  },
  "language_info": {
   "codemirror_mode": {
    "name": "ipython",
    "version": 3
   },
   "file_extension": ".py",
   "mimetype": "text/x-python",
   "name": "python",
   "nbconvert_exporter": "python",
   "pygments_lexer": "ipython3",
   "version": "3.7.12"
  }
 },
 "nbformat": 4,
 "nbformat_minor": 5
}
